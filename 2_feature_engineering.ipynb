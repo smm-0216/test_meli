{
 "cells": [
  {
   "cell_type": "code",
   "execution_count": 5,
   "id": "8d307b54",
   "metadata": {},
   "outputs": [],
   "source": [
    "import pickle\n",
    "import pandas as pd\n",
    "from sklearn.preprocessing import OneHotEncoder"
   ]
  },
  {
   "cell_type": "code",
   "execution_count": 6,
   "id": "103ed763",
   "metadata": {},
   "outputs": [
    {
     "data": {
      "text/plain": [
       "(16880, 21)"
      ]
     },
     "execution_count": 6,
     "metadata": {},
     "output_type": "execute_result"
    }
   ],
   "source": [
    "data = pd.read_csv('data/raw/data.csv')\n",
    "data.shape"
   ]
  },
  {
   "cell_type": "markdown",
   "id": "68c6216b",
   "metadata": {},
   "source": [
    "Let's remove the columns with null values as discussed in the EDA notebook.ipynb"
   ]
  },
  {
   "cell_type": "code",
   "execution_count": 7,
   "id": "f7b28e66",
   "metadata": {},
   "outputs": [],
   "source": [
    "data.drop(columns=['C','K'], inplace=True)"
   ]
  },
  {
   "cell_type": "markdown",
   "id": "5ab5b304",
   "metadata": {},
   "source": [
    "For the categorical feature 'J' it was identified that there are a lot of countries with few values so we can create a new category called OTHERS where can group the countries with not too much data."
   ]
  },
  {
   "cell_type": "code",
   "execution_count": 8,
   "id": "862471ce",
   "metadata": {},
   "outputs": [
    {
     "data": {
      "text/plain": [
       "J\n",
       "AR        0.552666\n",
       "BR        0.262322\n",
       "MX        0.140166\n",
       "OTHERS    0.044846\n",
       "Name: proportion, dtype: float64"
      ]
     },
     "execution_count": 8,
     "metadata": {},
     "output_type": "execute_result"
    }
   ],
   "source": [
    "threshold = 0.02  # 10%\n",
    "freq = data['J'].value_counts(normalize=True)\n",
    "rare_categories = freq[freq < threshold].index\n",
    "data['J'] = data['J'].replace(rare_categories, 'OTHERS')\n",
    "data['J'].value_counts(normalize=True)"
   ]
  },
  {
   "cell_type": "markdown",
   "id": "c5ec9448",
   "metadata": {},
   "source": [
    "As we have not too much categories, we can use OneHot Encoding, Ordinal Encoding creates a false order"
   ]
  },
  {
   "cell_type": "code",
   "execution_count": 10,
   "id": "930f3fa3",
   "metadata": {},
   "outputs": [
    {
     "data": {
      "text/html": [
       "<div>\n",
       "<style scoped>\n",
       "    .dataframe tbody tr th:only-of-type {\n",
       "        vertical-align: middle;\n",
       "    }\n",
       "\n",
       "    .dataframe tbody tr th {\n",
       "        vertical-align: top;\n",
       "    }\n",
       "\n",
       "    .dataframe thead th {\n",
       "        text-align: right;\n",
       "    }\n",
       "</style>\n",
       "<table border=\"1\" class=\"dataframe\">\n",
       "  <thead>\n",
       "    <tr style=\"text-align: right;\">\n",
       "      <th></th>\n",
       "      <th>J_BR</th>\n",
       "      <th>J_MX</th>\n",
       "      <th>J_OTHERS</th>\n",
       "    </tr>\n",
       "  </thead>\n",
       "  <tbody>\n",
       "    <tr>\n",
       "      <th>0</th>\n",
       "      <td>0.0</td>\n",
       "      <td>0.0</td>\n",
       "      <td>1.0</td>\n",
       "    </tr>\n",
       "    <tr>\n",
       "      <th>1</th>\n",
       "      <td>0.0</td>\n",
       "      <td>0.0</td>\n",
       "      <td>1.0</td>\n",
       "    </tr>\n",
       "    <tr>\n",
       "      <th>2</th>\n",
       "      <td>0.0</td>\n",
       "      <td>0.0</td>\n",
       "      <td>1.0</td>\n",
       "    </tr>\n",
       "    <tr>\n",
       "      <th>3</th>\n",
       "      <td>0.0</td>\n",
       "      <td>0.0</td>\n",
       "      <td>1.0</td>\n",
       "    </tr>\n",
       "    <tr>\n",
       "      <th>4</th>\n",
       "      <td>0.0</td>\n",
       "      <td>0.0</td>\n",
       "      <td>1.0</td>\n",
       "    </tr>\n",
       "    <tr>\n",
       "      <th>...</th>\n",
       "      <td>...</td>\n",
       "      <td>...</td>\n",
       "      <td>...</td>\n",
       "    </tr>\n",
       "    <tr>\n",
       "      <th>16875</th>\n",
       "      <td>1.0</td>\n",
       "      <td>0.0</td>\n",
       "      <td>0.0</td>\n",
       "    </tr>\n",
       "    <tr>\n",
       "      <th>16876</th>\n",
       "      <td>1.0</td>\n",
       "      <td>0.0</td>\n",
       "      <td>0.0</td>\n",
       "    </tr>\n",
       "    <tr>\n",
       "      <th>16877</th>\n",
       "      <td>1.0</td>\n",
       "      <td>0.0</td>\n",
       "      <td>0.0</td>\n",
       "    </tr>\n",
       "    <tr>\n",
       "      <th>16878</th>\n",
       "      <td>1.0</td>\n",
       "      <td>0.0</td>\n",
       "      <td>0.0</td>\n",
       "    </tr>\n",
       "    <tr>\n",
       "      <th>16879</th>\n",
       "      <td>1.0</td>\n",
       "      <td>0.0</td>\n",
       "      <td>0.0</td>\n",
       "    </tr>\n",
       "  </tbody>\n",
       "</table>\n",
       "<p>16880 rows × 3 columns</p>\n",
       "</div>"
      ],
      "text/plain": [
       "       J_BR  J_MX  J_OTHERS\n",
       "0       0.0   0.0       1.0\n",
       "1       0.0   0.0       1.0\n",
       "2       0.0   0.0       1.0\n",
       "3       0.0   0.0       1.0\n",
       "4       0.0   0.0       1.0\n",
       "...     ...   ...       ...\n",
       "16875   1.0   0.0       0.0\n",
       "16876   1.0   0.0       0.0\n",
       "16877   1.0   0.0       0.0\n",
       "16878   1.0   0.0       0.0\n",
       "16879   1.0   0.0       0.0\n",
       "\n",
       "[16880 rows x 3 columns]"
      ]
     },
     "execution_count": 10,
     "metadata": {},
     "output_type": "execute_result"
    }
   ],
   "source": [
    "encoder_onehot = OneHotEncoder(drop='first', handle_unknown='ignore', sparse_output=False)\n",
    "encoder_onehot.fit(data[['J']])\n",
    "data_onehot = pd.DataFrame(encoder_onehot.transform(data[['J']]), columns=encoder_onehot.get_feature_names_out(['J']), index=data.index)\n",
    "\n",
    "with open('./4_deployment/api/artifacts/onehot_encoder.pkl', 'wb') as f:\n",
    "    pickle.dump(encoder_onehot, f)\n",
    "\n",
    "data_onehot"
   ]
  },
  {
   "cell_type": "code",
   "execution_count": 11,
   "id": "e281808e",
   "metadata": {},
   "outputs": [
    {
     "data": {
      "text/plain": [
       "Index(['A', 'B', 'D', 'E', 'F', 'G', 'H', 'I', 'L', 'M', 'N', 'O', 'P', 'Q',\n",
       "       'R', 'S', 'Monto', 'Fraude', 'J_BR', 'J_MX', 'J_OTHERS'],\n",
       "      dtype='object')"
      ]
     },
     "execution_count": 11,
     "metadata": {},
     "output_type": "execute_result"
    }
   ],
   "source": [
    "data = pd.concat([data.drop(columns=['J']), data_onehot], axis=1)\n",
    "data.columns"
   ]
  },
  {
   "cell_type": "markdown",
   "id": "be444c2c",
   "metadata": {},
   "source": [
    "Again, fix the comma and dot problem as we did in EDA"
   ]
  },
  {
   "cell_type": "code",
   "execution_count": 12,
   "id": "c586dd29",
   "metadata": {},
   "outputs": [],
   "source": [
    "for col in ['Q','R','Monto']:\n",
    "    data[col] = data[col].str.replace(\",\",\"\").astype(float)"
   ]
  },
  {
   "cell_type": "code",
   "execution_count": 13,
   "id": "8e6ba02e",
   "metadata": {},
   "outputs": [
    {
     "data": {
      "text/html": [
       "<div>\n",
       "<style scoped>\n",
       "    .dataframe tbody tr th:only-of-type {\n",
       "        vertical-align: middle;\n",
       "    }\n",
       "\n",
       "    .dataframe tbody tr th {\n",
       "        vertical-align: top;\n",
       "    }\n",
       "\n",
       "    .dataframe thead th {\n",
       "        text-align: right;\n",
       "    }\n",
       "</style>\n",
       "<table border=\"1\" class=\"dataframe\">\n",
       "  <thead>\n",
       "    <tr style=\"text-align: right;\">\n",
       "      <th></th>\n",
       "      <th>0</th>\n",
       "      <th>1</th>\n",
       "      <th>2</th>\n",
       "      <th>3</th>\n",
       "      <th>4</th>\n",
       "    </tr>\n",
       "  </thead>\n",
       "  <tbody>\n",
       "    <tr>\n",
       "      <th>A</th>\n",
       "      <td>0.00</td>\n",
       "      <td>0.00</td>\n",
       "      <td>0.00</td>\n",
       "      <td>9.00</td>\n",
       "      <td>0.00</td>\n",
       "    </tr>\n",
       "    <tr>\n",
       "      <th>B</th>\n",
       "      <td>10.00</td>\n",
       "      <td>10.00</td>\n",
       "      <td>7.00</td>\n",
       "      <td>16.00</td>\n",
       "      <td>8.00</td>\n",
       "    </tr>\n",
       "    <tr>\n",
       "      <th>D</th>\n",
       "      <td>0.00</td>\n",
       "      <td>0.00</td>\n",
       "      <td>0.00</td>\n",
       "      <td>0.00</td>\n",
       "      <td>0.00</td>\n",
       "    </tr>\n",
       "    <tr>\n",
       "      <th>E</th>\n",
       "      <td>0.00</td>\n",
       "      <td>0.00</td>\n",
       "      <td>1.00</td>\n",
       "      <td>0.00</td>\n",
       "      <td>0.00</td>\n",
       "    </tr>\n",
       "    <tr>\n",
       "      <th>F</th>\n",
       "      <td>0.00</td>\n",
       "      <td>0.00</td>\n",
       "      <td>0.00</td>\n",
       "      <td>0.00</td>\n",
       "      <td>0.00</td>\n",
       "    </tr>\n",
       "    <tr>\n",
       "      <th>G</th>\n",
       "      <td>0.00</td>\n",
       "      <td>0.00</td>\n",
       "      <td>0.00</td>\n",
       "      <td>0.00</td>\n",
       "      <td>0.00</td>\n",
       "    </tr>\n",
       "    <tr>\n",
       "      <th>H</th>\n",
       "      <td>0.00</td>\n",
       "      <td>0.00</td>\n",
       "      <td>0.00</td>\n",
       "      <td>0.00</td>\n",
       "      <td>0.00</td>\n",
       "    </tr>\n",
       "    <tr>\n",
       "      <th>I</th>\n",
       "      <td>0.00</td>\n",
       "      <td>0.00</td>\n",
       "      <td>1.00</td>\n",
       "      <td>0.00</td>\n",
       "      <td>0.00</td>\n",
       "    </tr>\n",
       "    <tr>\n",
       "      <th>L</th>\n",
       "      <td>0.00</td>\n",
       "      <td>0.00</td>\n",
       "      <td>0.00</td>\n",
       "      <td>0.00</td>\n",
       "      <td>0.00</td>\n",
       "    </tr>\n",
       "    <tr>\n",
       "      <th>M</th>\n",
       "      <td>3.00</td>\n",
       "      <td>1.00</td>\n",
       "      <td>3.00</td>\n",
       "      <td>3.00</td>\n",
       "      <td>1.00</td>\n",
       "    </tr>\n",
       "    <tr>\n",
       "      <th>N</th>\n",
       "      <td>1.00</td>\n",
       "      <td>1.00</td>\n",
       "      <td>1.00</td>\n",
       "      <td>1.00</td>\n",
       "      <td>1.00</td>\n",
       "    </tr>\n",
       "    <tr>\n",
       "      <th>O</th>\n",
       "      <td>0.00</td>\n",
       "      <td>0.00</td>\n",
       "      <td>0.00</td>\n",
       "      <td>0.00</td>\n",
       "      <td>0.00</td>\n",
       "    </tr>\n",
       "    <tr>\n",
       "      <th>P</th>\n",
       "      <td>5.00</td>\n",
       "      <td>3.00</td>\n",
       "      <td>2.00</td>\n",
       "      <td>5.00</td>\n",
       "      <td>1.00</td>\n",
       "    </tr>\n",
       "    <tr>\n",
       "      <th>Q</th>\n",
       "      <td>0.00</td>\n",
       "      <td>0.00</td>\n",
       "      <td>0.00</td>\n",
       "      <td>0.00</td>\n",
       "      <td>0.00</td>\n",
       "    </tr>\n",
       "    <tr>\n",
       "      <th>R</th>\n",
       "      <td>0.00</td>\n",
       "      <td>0.00</td>\n",
       "      <td>0.00</td>\n",
       "      <td>0.00</td>\n",
       "      <td>0.00</td>\n",
       "    </tr>\n",
       "    <tr>\n",
       "      <th>S</th>\n",
       "      <td>7.25</td>\n",
       "      <td>11.66</td>\n",
       "      <td>86.97</td>\n",
       "      <td>2.51</td>\n",
       "      <td>25.96</td>\n",
       "    </tr>\n",
       "    <tr>\n",
       "      <th>Monto</th>\n",
       "      <td>37.51</td>\n",
       "      <td>8.18</td>\n",
       "      <td>13.96</td>\n",
       "      <td>93.67</td>\n",
       "      <td>135.40</td>\n",
       "    </tr>\n",
       "    <tr>\n",
       "      <th>Fraude</th>\n",
       "      <td>1.00</td>\n",
       "      <td>1.00</td>\n",
       "      <td>1.00</td>\n",
       "      <td>1.00</td>\n",
       "      <td>1.00</td>\n",
       "    </tr>\n",
       "    <tr>\n",
       "      <th>J_BR</th>\n",
       "      <td>0.00</td>\n",
       "      <td>0.00</td>\n",
       "      <td>0.00</td>\n",
       "      <td>0.00</td>\n",
       "      <td>0.00</td>\n",
       "    </tr>\n",
       "    <tr>\n",
       "      <th>J_MX</th>\n",
       "      <td>0.00</td>\n",
       "      <td>0.00</td>\n",
       "      <td>0.00</td>\n",
       "      <td>0.00</td>\n",
       "      <td>0.00</td>\n",
       "    </tr>\n",
       "    <tr>\n",
       "      <th>J_OTHERS</th>\n",
       "      <td>1.00</td>\n",
       "      <td>1.00</td>\n",
       "      <td>1.00</td>\n",
       "      <td>1.00</td>\n",
       "      <td>1.00</td>\n",
       "    </tr>\n",
       "  </tbody>\n",
       "</table>\n",
       "</div>"
      ],
      "text/plain": [
       "              0      1      2      3       4\n",
       "A          0.00   0.00   0.00   9.00    0.00\n",
       "B         10.00  10.00   7.00  16.00    8.00\n",
       "D          0.00   0.00   0.00   0.00    0.00\n",
       "E          0.00   0.00   1.00   0.00    0.00\n",
       "F          0.00   0.00   0.00   0.00    0.00\n",
       "G          0.00   0.00   0.00   0.00    0.00\n",
       "H          0.00   0.00   0.00   0.00    0.00\n",
       "I          0.00   0.00   1.00   0.00    0.00\n",
       "L          0.00   0.00   0.00   0.00    0.00\n",
       "M          3.00   1.00   3.00   3.00    1.00\n",
       "N          1.00   1.00   1.00   1.00    1.00\n",
       "O          0.00   0.00   0.00   0.00    0.00\n",
       "P          5.00   3.00   2.00   5.00    1.00\n",
       "Q          0.00   0.00   0.00   0.00    0.00\n",
       "R          0.00   0.00   0.00   0.00    0.00\n",
       "S          7.25  11.66  86.97   2.51   25.96\n",
       "Monto     37.51   8.18  13.96  93.67  135.40\n",
       "Fraude     1.00   1.00   1.00   1.00    1.00\n",
       "J_BR       0.00   0.00   0.00   0.00    0.00\n",
       "J_MX       0.00   0.00   0.00   0.00    0.00\n",
       "J_OTHERS   1.00   1.00   1.00   1.00    1.00"
      ]
     },
     "execution_count": 13,
     "metadata": {},
     "output_type": "execute_result"
    }
   ],
   "source": [
    "data.head().T"
   ]
  },
  {
   "cell_type": "code",
   "execution_count": 14,
   "id": "4f9c9c97",
   "metadata": {},
   "outputs": [
    {
     "data": {
      "text/plain": [
       "(16880, 21)"
      ]
     },
     "execution_count": 14,
     "metadata": {},
     "output_type": "execute_result"
    }
   ],
   "source": [
    "data.shape"
   ]
  },
  {
   "cell_type": "markdown",
   "id": "c34168c8",
   "metadata": {},
   "source": [
    "Saving the data as parquet will make it more easy to read later:"
   ]
  },
  {
   "cell_type": "code",
   "execution_count": null,
   "id": "63fb0637",
   "metadata": {},
   "outputs": [],
   "source": [
    "data.to_parquet('data/processed/data.parquet', index=False)"
   ]
  }
 ],
 "metadata": {
  "kernelspec": {
   "display_name": "meli",
   "language": "python",
   "name": "python3"
  },
  "language_info": {
   "codemirror_mode": {
    "name": "ipython",
    "version": 3
   },
   "file_extension": ".py",
   "mimetype": "text/x-python",
   "name": "python",
   "nbconvert_exporter": "python",
   "pygments_lexer": "ipython3",
   "version": "3.11.13"
  }
 },
 "nbformat": 4,
 "nbformat_minor": 5
}
